{
 "cells": [
  {
   "cell_type": "markdown",
   "id": "a9754e4a-1f8c-47cb-9b6d-3d3d31a7c4e2",
   "metadata": {},
   "source": [
    "<h1> My  Jupyter Notebook <h1>"
   ]
  },
  {
   "cell_type": "markdown",
   "id": "46f6cb7f-bfb9-47f9-a40a-eefbcd7a66e4",
   "metadata": {},
   "source": [
    "<b> Pavel Makarov <b>  <br>\n",
    "    Analytical Scientist"
   ]
  },
  {
   "cell_type": "markdown",
   "id": "c608935e-5989-4d6d-b82d-14c21a9b6f98",
   "metadata": {},
   "source": [
    "*I want to learn Data Science to apply it in bioinformatics to discover new drugs.<br>\n",
    "    Also, I want to learn how to use modern ML models to predict drugs product quality.*"
   ]
  },
  {
   "cell_type": "markdown",
   "id": "4f7724ef-0808-4d5f-91ca-532ce76306ba",
   "metadata": {},
   "source": [
    "<h3> My code supposed to take two input integers from a user and output sum of two.<h3>"
   ]
  },
  {
   "cell_type": "code",
   "execution_count": null,
   "id": "25f2bb56-03d5-41db-ae07-ab5946c3a0c9",
   "metadata": {},
   "outputs": [],
   "source": [
    "print (\"Please input integer number 1: \")\n",
    "a = int(input())\n",
    "print (\"Please input integer number 2: \")\n",
    "b = int(input())\n",
    "c = a+b\n",
    "print (\"The sum of two numbers is: \", c)\n"
   ]
  },
  {
   "cell_type": "markdown",
   "id": "5086b733-25bd-426a-a9eb-6ac3791eec0f",
   "metadata": {},
   "source": [
    "<hr> <br>\n",
    "<ol>\n",
    "    <li> Data </li>\n",
    "    <li>  Science </li>\n",
    "</ol> <br>\n",
    "<table style = \"width:20%\">\n",
    "    <tr>\n",
    "        <th>First_Name</th>\n",
    "        <th>Last_Name</th>\n",
    "        <th>Occupation</th>\n",
    "    </tr>\n",
    "    <tr>\n",
    "        <th>Pavel</th>\n",
    "        <th>Makarov</th>\n",
    "        <th>Scientist</th>\n",
    "    </tr>\n",
    "    </table>\n"
   ]
  },
  {
   "cell_type": "code",
   "execution_count": null,
   "id": "0b1ec693-872c-4c29-a318-83674d14af10",
   "metadata": {},
   "outputs": [],
   "source": []
  }
 ],
 "metadata": {
  "kernelspec": {
   "display_name": "Python",
   "language": "python",
   "name": "conda-env-python-py"
  },
  "language_info": {
   "codemirror_mode": {
    "name": "ipython",
    "version": 3
   },
   "file_extension": ".py",
   "mimetype": "text/x-python",
   "name": "python",
   "nbconvert_exporter": "python",
   "pygments_lexer": "ipython3",
   "version": "3.7.12"
  }
 },
 "nbformat": 4,
 "nbformat_minor": 5
}
